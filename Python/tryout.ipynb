{
 "cells": [
  {
   "cell_type": "markdown",
   "metadata": {},
   "source": [
    "## Tryout functions"
   ]
  },
  {
   "cell_type": "code",
   "execution_count": 6,
   "metadata": {},
   "outputs": [],
   "source": [
    "import os\n",
    "import importlib\n",
    "import helperfunctions\n",
    "from VisualisationTools import soccer_animation\n",
    "\n",
    "# Clear cache and reload the helperfunctions module\n",
    "importlib.reload(helperfunctions)\n",
    "importlib.reload(soccer_animation)\n",
    "\n",
    "# Import the required functions after reloading\n",
    "from helperfunctions import get_database_connection, fetch_team_matches, calculate_ball_possession\n"
   ]
  },
  {
   "cell_type": "code",
   "execution_count": 2,
   "metadata": {},
   "outputs": [
    {
     "ename": "OperationalError",
     "evalue": "connection to server at \"fuji.ucll.be\" (193.190.58.68), port 62425 failed: FATAL:  server login has been failing, cached error: database \"local_r0887380\" does not exist (server_login_retry)\n",
     "output_type": "error",
     "traceback": [
      "\u001b[31m---------------------------------------------------------------------------\u001b[39m",
      "\u001b[31mOperationalError\u001b[39m                          Traceback (most recent call last)",
      "\u001b[36mCell\u001b[39m\u001b[36m \u001b[39m\u001b[32mIn[2]\u001b[39m\u001b[32m, line 1\u001b[39m\n\u001b[32m----> \u001b[39m\u001b[32m1\u001b[39m conn = \u001b[43mget_database_connection\u001b[49m\u001b[43m(\u001b[49m\u001b[43m)\u001b[49m\n\u001b[32m      2\u001b[39m team_name = \u001b[33m\"\u001b[39m\u001b[33manderlecht\u001b[39m\u001b[33m\"\u001b[39m\n\u001b[32m      3\u001b[39m games = fetch_team_matches(team_name, conn)\n",
      "\u001b[36mFile \u001b[39m\u001b[32md:\\school\\stage\\ohl\\soccer_analytics_projectweek\\Python\\helperfunctions.py:22\u001b[39m, in \u001b[36mget_database_connection\u001b[39m\u001b[34m()\u001b[39m\n\u001b[32m     19\u001b[39m PG_DATABASE = os.getenv(\u001b[33m\"\u001b[39m\u001b[33mPG_DB\u001b[39m\u001b[33m\"\u001b[39m)\n\u001b[32m     21\u001b[39m \u001b[38;5;66;03m# Establish and return the database connection\u001b[39;00m\n\u001b[32m---> \u001b[39m\u001b[32m22\u001b[39m \u001b[38;5;28;01mreturn\u001b[39;00m \u001b[43mpsycopg2\u001b[49m\u001b[43m.\u001b[49m\u001b[43mconnect\u001b[49m\u001b[43m(\u001b[49m\n\u001b[32m     23\u001b[39m \u001b[43m    \u001b[49m\u001b[43mhost\u001b[49m\u001b[43m=\u001b[49m\u001b[43mPG_HOST\u001b[49m\u001b[43m,\u001b[49m\n\u001b[32m     24\u001b[39m \u001b[43m    \u001b[49m\u001b[43mdatabase\u001b[49m\u001b[43m=\u001b[49m\u001b[43mPG_DATABASE\u001b[49m\u001b[43m,\u001b[49m\n\u001b[32m     25\u001b[39m \u001b[43m    \u001b[49m\u001b[43muser\u001b[49m\u001b[43m=\u001b[49m\u001b[43mPG_USER\u001b[49m\u001b[43m,\u001b[49m\n\u001b[32m     26\u001b[39m \u001b[43m    \u001b[49m\u001b[43mpassword\u001b[49m\u001b[43m=\u001b[49m\u001b[43mPG_PASSWORD\u001b[49m\u001b[43m,\u001b[49m\n\u001b[32m     27\u001b[39m \u001b[43m    \u001b[49m\u001b[43mport\u001b[49m\u001b[43m=\u001b[49m\u001b[43mPG_PORT\u001b[49m\u001b[43m,\u001b[49m\n\u001b[32m     28\u001b[39m \u001b[43m    \u001b[49m\u001b[43msslmode\u001b[49m\u001b[43m=\u001b[49m\u001b[33;43m\"\u001b[39;49m\u001b[33;43mrequire\u001b[39;49m\u001b[33;43m\"\u001b[39;49m\u001b[43m,\u001b[49m\n\u001b[32m     29\u001b[39m \u001b[43m\u001b[49m\u001b[43m)\u001b[49m\n",
      "\u001b[36mFile \u001b[39m\u001b[32md:\\school\\stage\\ohl\\soccer_analytics_projectweek\\.venv\\Lib\\site-packages\\psycopg2\\__init__.py:122\u001b[39m, in \u001b[36mconnect\u001b[39m\u001b[34m(dsn, connection_factory, cursor_factory, **kwargs)\u001b[39m\n\u001b[32m    119\u001b[39m     kwasync[\u001b[33m'\u001b[39m\u001b[33masync_\u001b[39m\u001b[33m'\u001b[39m] = kwargs.pop(\u001b[33m'\u001b[39m\u001b[33masync_\u001b[39m\u001b[33m'\u001b[39m)\n\u001b[32m    121\u001b[39m dsn = _ext.make_dsn(dsn, **kwargs)\n\u001b[32m--> \u001b[39m\u001b[32m122\u001b[39m conn = \u001b[43m_connect\u001b[49m\u001b[43m(\u001b[49m\u001b[43mdsn\u001b[49m\u001b[43m,\u001b[49m\u001b[43m \u001b[49m\u001b[43mconnection_factory\u001b[49m\u001b[43m=\u001b[49m\u001b[43mconnection_factory\u001b[49m\u001b[43m,\u001b[49m\u001b[43m \u001b[49m\u001b[43m*\u001b[49m\u001b[43m*\u001b[49m\u001b[43mkwasync\u001b[49m\u001b[43m)\u001b[49m\n\u001b[32m    123\u001b[39m \u001b[38;5;28;01mif\u001b[39;00m cursor_factory \u001b[38;5;129;01mis\u001b[39;00m \u001b[38;5;129;01mnot\u001b[39;00m \u001b[38;5;28;01mNone\u001b[39;00m:\n\u001b[32m    124\u001b[39m     conn.cursor_factory = cursor_factory\n",
      "\u001b[31mOperationalError\u001b[39m: connection to server at \"fuji.ucll.be\" (193.190.58.68), port 62425 failed: FATAL:  server login has been failing, cached error: database \"local_r0887380\" does not exist (server_login_retry)\n"
     ]
    }
   ],
   "source": [
    "conn = get_database_connection()\n",
    "team_name = \"anderlecht\"\n",
    "games = fetch_team_matches(team_name, conn)\n",
    "\n",
    "# Display the team_id of the given team_name\n",
    "team_id = games.loc[games['home_team_name'].str.lower() == team_name.lower(), 'home_team_id'].iloc[0]\n",
    "print(f\"Team ID for {team_name}: {team_id}\")\n",
    "conn.close()\n"
   ]
  },
  {
   "cell_type": "code",
   "execution_count": null,
   "metadata": {},
   "outputs": [],
   "source": [
    "print(games)"
   ]
  },
  {
   "cell_type": "code",
   "execution_count": null,
   "metadata": {},
   "outputs": [],
   "source": [
    "# Re-establish the database connection\n",
    "conn = get_database_connection()\n",
    "\n",
    "# Fetch match events for the first game in the games dataframe\n",
    "match_id = games.iloc[0]['match_id']\n",
    "match_events = helperfunctions.fetch_match_events(match_id, conn)\n",
    "\n",
    "# Close the connection after fetching the data\n",
    "conn.close()\n",
    "\n",
    "print(match_events.head(10))\n",
    "print(match_events.describe())\n",
    "print(match_events.info())"
   ]
  },
  {
   "cell_type": "code",
   "execution_count": null,
   "metadata": {},
   "outputs": [],
   "source": [
    "import pandas as pd\n",
    "\n",
    "# Re-establish the database connection\n",
    "conn = get_database_connection()\n",
    "\n",
    "# Fetch match events for the first game in the games dataframe\n",
    "match_id = games.iloc[0]['match_id']\n",
    "changes = calculate_ball_possession(match_id, conn,team_id=team_id)\n",
    "\n",
    "# Close the connection after fetching the data\n",
    "conn.close()\n",
    "\n",
    "print(changes.head(10))\n"
   ]
  },
  {
   "cell_type": "code",
   "execution_count": null,
   "metadata": {},
   "outputs": [],
   "source": [
    "import seaborn as sns\n",
    "\n",
    "import matplotlib.pyplot as plt\n",
    "\n",
    "# Filter the data to include only rows where time_difference_seconds is between -500 and 500\n",
    "changes['time_difference_seconds'] = changes['time_difference'].dt.total_seconds()\n",
    "\n",
    "# Print negative time_difference_seconds values\n",
    "negative_time_diff = changes[changes['time_difference_seconds'] < 0]\n",
    "print(\"Negative time_difference_seconds values:\")\n",
    "print(negative_time_diff[['time_difference_seconds']])\n",
    "\n",
    "# Set negative time_difference_seconds to 0\n",
    "changes.loc[changes['time_difference_seconds'] < 0, 'time_difference_seconds'] = 0\n",
    "\n",
    "# Create a histogram with facets for ball_possession and a bin size of 5 seconds\n",
    "sns.histplot(data=changes, x='time_difference_seconds', hue='ball_possession', multiple='dodge', bins=range(-500, 505, 5))\n",
    "\n",
    "# Add labels and title\n",
    "plt.xlabel('Time Difference (seconds)')\n",
    "plt.ylabel('Frequency')\n",
    "plt.title('Histogram of Ball Possession Changes for Anderlecht')\n",
    "plt.legend(title='Ball Possession', labels=['Opponent', 'Anderlecht'])\n",
    "\n",
    "# Show the plot\n",
    "plt.show()\n"
   ]
  },
  {
   "cell_type": "code",
   "execution_count": null,
   "metadata": {},
   "outputs": [],
   "source": [
    "# Filter the data to include only rows where time_difference_seconds is between -60 and 60\n",
    "filtered_changes_60 = changes[(changes['time_difference_seconds'] >= -60) & (changes['time_difference_seconds'] <= 60)]\n",
    "\n",
    "# Create a histogram with facets for ball_possession and a bin size of 5 seconds\n",
    "sns.histplot(data=filtered_changes_60, x='time_difference_seconds', hue='ball_possession', multiple='dodge', bins=range(0, 65, 5))\n",
    "\n",
    "# Add labels and title\n",
    "plt.xlabel('Time Difference (seconds)')\n",
    "plt.ylabel('Frequency')\n",
    "plt.title('Histogram of Ball Possession Changes for Anderlecht (Zoomed In)')\n",
    "plt.legend(title='Ball Possession', labels=['Opponent', 'Anderlecht'])\n",
    "\n",
    "# Show the plot\n",
    "plt.show()"
   ]
  },
  {
   "cell_type": "markdown",
   "metadata": {},
   "source": [
    "# Animation between two timestamps\n",
    "\n",
    "! Create a  .env file with the following content:\n",
    " ```env\n",
    "PG_HOST=fuji.ucll.be\n",
    "PG_PORT=52425\n",
    "PG_USER=your_user\n",
    "PG_PASSWORD=your_password   \n",
    "\n",
    "```"
   ]
  },
  {
   "cell_type": "code",
   "execution_count": 7,
   "metadata": {},
   "outputs": [
    {
     "name": "stdout",
     "output_type": "stream",
     "text": [
      "Loading tracking data...\n",
      "Warning: Found 29 gaps in frame IDs\n",
      "Frame range: 1722799715000 to 1722799744000\n",
      "Loaded 690 rows, 30 unique frames\n",
      "Loading team data...\n",
      "Splitting tracking data...\n",
      "Ball frames: 30\n",
      "Home team rows: 330, players: 11\n",
      "Away team rows: 330, players: 11\n",
      "Creating animation with 30 original frames...\n",
      "Interpolating ball frames...\n",
      "Interpolating 30 frames to create 180 frames...\n"
     ]
    },
    {
     "name": "stderr",
     "output_type": "stream",
     "text": [
      "Interpolating positions: 100%|██████████| 29/29 [00:00<00:00, 176.81it/s]\n"
     ]
    },
    {
     "name": "stdout",
     "output_type": "stream",
     "text": [
      "After ball interpolation: 175 frames\n",
      "Interpolating home team frames...\n",
      "Interpolating 330 frames to create 1980 frames...\n",
      "After home team interpolation: 1925 frames\n",
      "Interpolating away team frames...\n",
      "Interpolating 330 frames to create 1980 frames...\n",
      "After away team interpolation: 1925 frames\n",
      "Time range: 00:13:35 to 00:14:04\n"
     ]
    },
    {
     "name": "stderr",
     "output_type": "stream",
     "text": [
      "Processing frames:   1%|          | 1/175 [00:00<00:19,  9.11it/s]"
     ]
    },
    {
     "name": "stdout",
     "output_type": "stream",
     "text": [
      "Pre-processing frames...\n",
      "Generating animation...\n",
      "Saving animation to match_animation.mp4 with 25 fps...\n"
     ]
    },
    {
     "name": "stderr",
     "output_type": "stream",
     "text": [
      "Processing frames: 178it [00:09, 18.09it/s]                         "
     ]
    },
    {
     "name": "stdout",
     "output_type": "stream",
     "text": [
      "Animation completed!\n",
      "Animation saved to match_animation.mp4\n"
     ]
    },
    {
     "name": "stderr",
     "output_type": "stream",
     "text": [
      "\n"
     ]
    }
   ],
   "source": [
    "import dotenv\n",
    "\n",
    "dotenv.load_dotenv()\n",
    "import os\n",
    "\n",
    "\n",
    "# Load environment variables from .env file\n",
    "PG_HOST = os.getenv(\"PG_HOST\")\n",
    "PG_USER = os.getenv(\"PG_USER\")\n",
    "PG_PASSWORD = os.getenv(\"PG_PASSWORD\")\n",
    "PG_PORT = os.getenv(\"PG_PORT\")\n",
    "\n",
    "db_config = {\n",
    "    \"host\": PG_HOST,\n",
    "    \"database\": \"international_week\",\n",
    "    \"user\": PG_USER,\n",
    "    \"password\": PG_PASSWORD,\n",
    "    \"port\": PG_PORT,\n",
    "    \"sslmode\": \"require\"\n",
    "}\n",
    "\n",
    "soccer_anim = soccer_animation.SoccerAnimation(db_config)\n",
    "\n",
    "animation_file = soccer_anim.animate_from_database(\n",
    "    game_id='5uts2s7fl98clqz8uymaazehg',\n",
    "    start_time='00:13:35',\n",
    "    end_time='00:14:05',\n",
    "    period_id=1,\n",
    "    output_file='match_animation.mp4',\n",
    "    fps=25,\n",
    "    interpolate=True\n",
    ")\n"
   ]
  }
 ],
 "metadata": {
  "kernelspec": {
   "display_name": ".venv",
   "language": "python",
   "name": "python3"
  },
  "language_info": {
   "codemirror_mode": {
    "name": "ipython",
    "version": 3
   },
   "file_extension": ".py",
   "mimetype": "text/x-python",
   "name": "python",
   "nbconvert_exporter": "python",
   "pygments_lexer": "ipython3",
   "version": "3.12.9"
  }
 },
 "nbformat": 4,
 "nbformat_minor": 2
}
